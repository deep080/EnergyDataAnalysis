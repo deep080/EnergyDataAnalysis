{
 "cells": [
  {
   "cell_type": "code",
   "execution_count": 46,
   "id": "5b5e2e62-ae41-413c-bc23-ac824e72f9c7",
   "metadata": {},
   "outputs": [
    {
     "name": "stdout",
     "output_type": "stream",
     "text": [
      "The Total Generation in North Region for July, 2022 is 14.480 TW\n",
      "The share of Renewable Energy in July, 2022 is 10.823%\n"
     ]
    }
   ],
   "source": [
    "import pandas as pd\n",
    "import numpy as np\n",
    "import seaborn as sns\n",
    "\n",
    "df = pd.read_excel('merged_data.xlsx',index_col='DateTime')\n",
    "df.drop(df.columns[range(27,39)],axis=1,inplace=True)\n",
    "df.drop(['Unnamed: 0','Unnamed: 11','Unnamed: 20','Market Hour Ending','Total MW','Total MW.1','Total MW.2'],axis=1,inplace=True)\n",
    "df['Wind.2'] = 0\n",
    "df.insert(18, 'Wind.2', df.pop('Wind.2'))\n",
    "header = pd.MultiIndex.from_product([['Central','North','South'],\n",
    "                                     ['Coal','Gas','Nuclear','Hydro','Wind','Solar','Other']],\n",
    "                                    names=['Region','Fuel'])\n",
    "df.columns = header\n",
    "df_new = pd.melt(df,ignore_index=False,var_name=['Region','Power Source'],value_name='Value, MW')\n",
    "df_new.reset_index(inplace=True)\n",
    "\n",
    "df_new['Value, MW'] = df_new['Value, MW']/1000000\n",
    "df_new.rename(columns={'Value, MW':'Value, TW'},inplace=True)\n",
    "\n",
    "df_july = df_new[df_new['DateTime'].dt.month == 7]\n",
    "df_north = df_july.loc[df_july['Region'] == 'North',:]\n",
    "df_north.reset_index(inplace=True)\n",
    "df_north['Total Generation in North Region, TW'] = df_north.loc[:,['Value, TW']].sum(axis=1)\n",
    "print('The Total Generation in North Region for July, 2022 is {0:.3f} TW'.format(df_north['Value, TW'].sum()))\n",
    "df_north.to_excel('generation_north.xlsx')\n",
    "\n",
    "df1 = df_july.loc[(df_july['Power Source'] == 'Hydro') | (df_july['Power Source'] == 'Solar') \n",
    "                  | (df_july['Power Source'] == 'Wind'),:]\n",
    "a = df1['Value, TW'].sum()\n",
    "b = df_july['Value, TW'].sum()\n",
    "share = (a/b)*100\n",
    "print('The share of Renewable Energy in July, 2022 is {0:.3f}%'.format(share))"
   ]
  },
  {
   "cell_type": "code",
   "execution_count": null,
   "id": "ee22eab8-b25e-491d-89b5-b797921769ee",
   "metadata": {},
   "outputs": [],
   "source": []
  },
  {
   "cell_type": "code",
   "execution_count": null,
   "id": "656b73ae-f5e6-40a1-be0f-b4ce588a9b8d",
   "metadata": {},
   "outputs": [],
   "source": []
  }
 ],
 "metadata": {
  "kernelspec": {
   "display_name": "Python 3 (ipykernel)",
   "language": "python",
   "name": "python3"
  },
  "language_info": {
   "codemirror_mode": {
    "name": "ipython",
    "version": 3
   },
   "file_extension": ".py",
   "mimetype": "text/x-python",
   "name": "python",
   "nbconvert_exporter": "python",
   "pygments_lexer": "ipython3",
   "version": "3.8.6"
  }
 },
 "nbformat": 4,
 "nbformat_minor": 5
}

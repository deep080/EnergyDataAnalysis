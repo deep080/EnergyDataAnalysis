{
 "cells": [
  {
   "cell_type": "code",
   "execution_count": 12,
   "id": "88bcdeb2-2dd2-4576-a64d-7f59b8e26810",
   "metadata": {},
   "outputs": [],
   "source": [
    "import requests\n",
    "import numpy as np\n",
    "\n",
    "june = np.arange(20220601,20220631)\n",
    "july = np.arange(20220701,20220732)\n",
    "\n",
    "for date in june:\n",
    "    url = 'https://docs.misoenergy.org/marketreports/'+str(date)+'_sr_gfm.xlsx'\n",
    "    r = requests.get(url)\n",
    "    open(str(date)+'.xlsx','wb').write(r.content)\n",
    "\n",
    "for date in july:\n",
    "    url = 'https://docs.misoenergy.org/marketreports/'+str(date)+'_sr_gfm.xlsx'\n",
    "    r = requests.get(url)\n",
    "    open(str(date)+'.xlsx','wb').write(r.content)"
   ]
  },
  {
   "cell_type": "code",
   "execution_count": null,
   "id": "17f209f3-81cc-4285-a6c0-89d1309953ce",
   "metadata": {},
   "outputs": [],
   "source": []
  }
 ],
 "metadata": {
  "kernelspec": {
   "display_name": "Python 3 (ipykernel)",
   "language": "python",
   "name": "python3"
  },
  "language_info": {
   "codemirror_mode": {
    "name": "ipython",
    "version": 3
   },
   "file_extension": ".py",
   "mimetype": "text/x-python",
   "name": "python",
   "nbconvert_exporter": "python",
   "pygments_lexer": "ipython3",
   "version": "3.8.6"
  }
 },
 "nbformat": 4,
 "nbformat_minor": 5
}
